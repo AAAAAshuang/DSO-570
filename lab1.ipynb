{
  "nbformat": 4,
  "nbformat_minor": 0,
  "metadata": {
    "colab": {
      "name": "Untitled0.ipynb",
      "version": "0.3.2",
      "provenance": [],
      "include_colab_link": true
    },
    "kernelspec": {
      "name": "python3",
      "display_name": "Python 3"
    }
  },
  "cells": [
    {
      "cell_type": "markdown",
      "metadata": {
        "id": "view-in-github",
        "colab_type": "text"
      },
      "source": [
        "<a href=\"https://colab.research.google.com/github/AAAAAshuang/DSO-570/blob/master/lab1.ipynb\" target=\"_parent\"><img src=\"https://colab.research.google.com/assets/colab-badge.svg\" alt=\"Open In Colab\"/></a>"
      ]
    },
    {
      "metadata": {
        "id": "I7mBPiJU9Ior",
        "colab_type": "code",
        "colab": {}
      },
      "cell_type": "code",
      "source": [
        "import pandas as pd\n",
        "import numpy as np\n",
        "import matplotlib as plt\n",
        "from scipy.stats import uniform\n",
        "from scipy.stats import binom\n",
        "from scipy.stats import norm"
      ],
      "execution_count": 0,
      "outputs": []
    },
    {
      "metadata": {
        "id": "k8r0uZVT9e6B",
        "colab_type": "code",
        "colab": {}
      },
      "cell_type": "code",
      "source": [
        "#leisure customers\n",
        "A_size=norm(200,60)\n",
        "A_time=uniform(0,180)\n",
        "A_wp=norm(200,80)\n",
        "\n",
        "#Business customers\n",
        "B_size=norm(60,20)\n",
        "B_time=uniform(0,14)\n",
        "B_wp=norm(350,120)\n",
        "\n",
        "# turn negative number to 0\n",
        "def to_positive(number):\n",
        "  if number<0:\n",
        "    return 0\n",
        "  else:\n",
        "    return number\n",
        "# generate custoemrs\n",
        "def generatecustomers():\n",
        "    customer=[]\n",
        "    num_A=to_positive(A_size.rvs())\n",
        "    num_A=to_positive(int(round(num_A)))\n",
        "    for i in range(num_A):\n",
        "        customer.append([A_time.rvs(),to_positive(A_wp.rvs())])\n",
        "    num_B=to_positive(B_size.rvs())\n",
        "    num_B=to_positive(int(round(num_B)))   \n",
        "    for i in range(num_B):\n",
        "        customer.append([B_time.rvs(),to_positive(B_wp.rvs())])\n",
        "    customer=pd.DataFrame(customer,columns=[\"arrival_time\",\"valuation\"])\n",
        "    customer=customer.sort_values(by=\"arrival_time\",ascending=False)\n",
        "    customer=customer.reset_index()\n",
        "    customer=customer.drop(columns=[\"index\"])\n",
        "    return customer"
      ],
      "execution_count": 0,
      "outputs": []
    },
    {
      "metadata": {
        "id": "71SYaqa7DYUk",
        "colab_type": "code",
        "colab": {
          "base_uri": "https://localhost:8080/",
          "height": 204
        },
        "outputId": "386da8f9-445f-40b9-8c07-5acf2b19ebf9"
      },
      "cell_type": "code",
      "source": [
        "generatecustomers().head()"
      ],
      "execution_count": 27,
      "outputs": [
        {
          "output_type": "execute_result",
          "data": {
            "text/html": [
              "<div>\n",
              "<style scoped>\n",
              "    .dataframe tbody tr th:only-of-type {\n",
              "        vertical-align: middle;\n",
              "    }\n",
              "\n",
              "    .dataframe tbody tr th {\n",
              "        vertical-align: top;\n",
              "    }\n",
              "\n",
              "    .dataframe thead th {\n",
              "        text-align: right;\n",
              "    }\n",
              "</style>\n",
              "<table border=\"1\" class=\"dataframe\">\n",
              "  <thead>\n",
              "    <tr style=\"text-align: right;\">\n",
              "      <th></th>\n",
              "      <th>arrival_time</th>\n",
              "      <th>valuation</th>\n",
              "    </tr>\n",
              "  </thead>\n",
              "  <tbody>\n",
              "    <tr>\n",
              "      <th>0</th>\n",
              "      <td>178.262100</td>\n",
              "      <td>107.411579</td>\n",
              "    </tr>\n",
              "    <tr>\n",
              "      <th>1</th>\n",
              "      <td>177.388457</td>\n",
              "      <td>164.726189</td>\n",
              "    </tr>\n",
              "    <tr>\n",
              "      <th>2</th>\n",
              "      <td>176.729290</td>\n",
              "      <td>167.196025</td>\n",
              "    </tr>\n",
              "    <tr>\n",
              "      <th>3</th>\n",
              "      <td>176.393219</td>\n",
              "      <td>287.707748</td>\n",
              "    </tr>\n",
              "    <tr>\n",
              "      <th>4</th>\n",
              "      <td>176.314847</td>\n",
              "      <td>158.598477</td>\n",
              "    </tr>\n",
              "  </tbody>\n",
              "</table>\n",
              "</div>"
            ],
            "text/plain": [
              "   arrival_time   valuation\n",
              "0    178.262100  107.411579\n",
              "1    177.388457  164.726189\n",
              "2    176.729290  167.196025\n",
              "3    176.393219  287.707748\n",
              "4    176.314847  158.598477"
            ]
          },
          "metadata": {
            "tags": []
          },
          "execution_count": 27
        }
      ]
    },
    {
      "metadata": {
        "id": "q94Wemgg9i_j",
        "colab_type": "code",
        "colab": {}
      },
      "cell_type": "code",
      "source": [
        "def simulateConstant(customers,seats,p):\n",
        "    np.random.seed(0)\n",
        "    customers=customers.sort_values(by=\"arrival_time\",ascending=False)\n",
        "    revenue=0\n",
        "    n=0\n",
        "    for i in customers[\"valuation\"]:\n",
        "        if i>=p and n< seats:\n",
        "            revenue+=p\n",
        "            n+=1\n",
        "    return revenue"
      ],
      "execution_count": 0,
      "outputs": []
    },
    {
      "metadata": {
        "id": "nKqdHxqJ9nR3",
        "colab_type": "code",
        "colab": {}
      },
      "cell_type": "code",
      "source": [
        "def simulateDynamic(customers,seats,p1,p2):\n",
        "    #np.random.seed(0)\n",
        "    revenue=0\n",
        "    n=0\n",
        "    customers=customers.sort_values(by=\"arrival_time\",ascending=False)\n",
        "    for i in range(len(customers)):\n",
        "        if customers.iloc[i,0]>14:\n",
        "            if customers.iloc[i,1]>=p1 and n < seats:\n",
        "                revenue+=p1\n",
        "                n+=1\n",
        "        else:\n",
        "            if customers.iloc[i,1]>=p2 and n < seats:\n",
        "                revenue+=p2  \n",
        "                n+=1\n",
        "    return revenue "
      ],
      "execution_count": 0,
      "outputs": []
    },
    {
      "metadata": {
        "id": "HVIfm8nq94rP",
        "colab_type": "code",
        "colab": {}
      },
      "cell_type": "code",
      "source": [
        "def simulateRationing(customers,seats,p1,p2,l):\n",
        "    customers=customers.sort_values(by=\"arrival_time\",ascending=False)\n",
        "    revenue=0\n",
        "    for i in range(len(customers)):\n",
        "      willing=customers[\"valuation\"][i]\n",
        "      if 0 < seats <= 1:\n",
        "        price=p2\n",
        "      elif seats > l:\n",
        "        price=p1\n",
        "      else:\n",
        "        price=0\n",
        "      if willing>=price:\n",
        "        seats-=1\n",
        "        revenue+=price\n",
        "    return revenue    \n",
        "  "
      ],
      "execution_count": 0,
      "outputs": []
    },
    {
      "metadata": {
        "id": "nR_PoL3y9n5w",
        "colab_type": "code",
        "outputId": "47756258-7371-44b4-dc14-9e639fd2d9c8",
        "colab": {
          "base_uri": "https://localhost:8080/",
          "height": 34
        }
      },
      "cell_type": "code",
      "source": [
        "seats=100\n",
        "customers=generatecustomers()\n",
        "simulateConstant(customers,seats,400)"
      ],
      "execution_count": 29,
      "outputs": [
        {
          "output_type": "execute_result",
          "data": {
            "text/plain": [
              "0"
            ]
          },
          "metadata": {
            "tags": []
          },
          "execution_count": 29
        }
      ]
    },
    {
      "metadata": {
        "id": "gmlYIiEu9uYY",
        "colab_type": "code",
        "outputId": "d0141fa3-97a9-4909-ddde-5e2ab918ebc7",
        "colab": {
          "base_uri": "https://localhost:8080/",
          "height": 34
        }
      },
      "cell_type": "code",
      "source": [
        "simulateDynamic(customers,seats,400,500)"
      ],
      "execution_count": 0,
      "outputs": [
        {
          "output_type": "execute_result",
          "data": {
            "text/plain": [
              "4153500"
            ]
          },
          "metadata": {
            "tags": []
          },
          "execution_count": 15
        }
      ]
    },
    {
      "metadata": {
        "id": "khifqFXY92QC",
        "colab_type": "code",
        "outputId": "852ec41b-bce9-46b7-c862-0a1d9108b256",
        "colab": {
          "base_uri": "https://localhost:8080/",
          "height": 34
        }
      },
      "cell_type": "code",
      "source": [
        "data=[[170,50],[150,40],[13,95],[12,100]]\n",
        "customers=pd.DataFrame(data,columns=[\"arrival_time\",\"valuation\"])\n",
        "simulateConstant(customers,2,100)"
      ],
      "execution_count": 62,
      "outputs": [
        {
          "output_type": "execute_result",
          "data": {
            "text/plain": [
              "100"
            ]
          },
          "metadata": {
            "tags": []
          },
          "execution_count": 62
        }
      ]
    },
    {
      "metadata": {
        "id": "Sh0WB46q9tOk",
        "colab_type": "code",
        "colab": {
          "base_uri": "https://localhost:8080/",
          "height": 34
        },
        "outputId": "ca03e461-2395-48d8-91a9-a48e8be8f340"
      },
      "cell_type": "code",
      "source": [
        "simulateDynamic(customers,2,40,95)"
      ],
      "execution_count": 61,
      "outputs": [
        {
          "output_type": "execute_result",
          "data": {
            "text/plain": [
              "80"
            ]
          },
          "metadata": {
            "tags": []
          },
          "execution_count": 61
        }
      ]
    },
    {
      "metadata": {
        "id": "dUpdllThKi-W",
        "colab_type": "code",
        "colab": {
          "base_uri": "https://localhost:8080/",
          "height": 34
        },
        "outputId": "9c165e43-3878-4421-93cd-ad3268b68d53"
      },
      "cell_type": "code",
      "source": [
        "simulateRationing(customers,3,40,100,1)"
      ],
      "execution_count": 59,
      "outputs": [
        {
          "output_type": "execute_result",
          "data": {
            "text/plain": [
              "180"
            ]
          },
          "metadata": {
            "tags": []
          },
          "execution_count": 59
        }
      ]
    },
    {
      "metadata": {
        "id": "YvgKEgGXQGq8",
        "colab_type": "code",
        "colab": {}
      },
      "cell_type": "code",
      "source": [
        ""
      ],
      "execution_count": 0,
      "outputs": []
    }
  ]
}