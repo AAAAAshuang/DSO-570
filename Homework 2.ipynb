{
 "cells": [
  {
   "cell_type": "markdown",
   "metadata": {},
   "source": [
    "# Homework 2 (Due before class on 1/22)\n",
    "\n",
    "**Name:**\n",
    "\n",
    "## Q1. PY4E Chapter 2 Exercise 3\n",
    "\n",
    "Write a program to prompt the user for hours and rate per\n",
    "hour to compute gross pay.\n",
    "\n",
    "```\n",
    "Enter Hours: 35\n",
    "Enter Rate: 2.75\n",
    "Pay: 96.25```\n",
    "\n",
    "Write your code in the code cell below"
   ]
  },
  {
   "cell_type": "code",
   "execution_count": 1,
   "metadata": {},
   "outputs": [
    {
     "name": "stdout",
     "output_type": "stream",
     "text": [
      "Enter Hours:35\n",
      "Enter Rate:2.75\n",
      "Pay: 96.25\n"
     ]
    }
   ],
   "source": [
    "x=float(input('Enter Hours:'))\n",
    "y=float(input('Enter Rate:'))\n",
    "pay=x*y\n",
    "print('Pay:',pay)"
   ]
  },
  {
   "cell_type": "markdown",
   "metadata": {},
   "source": [
    "## Q2. PY4E Chapter 2 Exercise 4\n",
    "\n",
    "Assume that we execute the following assignment statements:\n",
    "```\n",
    "width = 17\n",
    "height = 12.0\n",
    "```\n",
    "\n",
    "For each of the following expressions, write the value of the expression and the\n",
    "type (of the value of the expression).\n",
    "1. width//2\n",
    "2. width/2.0\n",
    "3. height/3\n",
    "4. 1 + 2 * 5\n",
    "\n",
    "Type your answer in this markdown cell, under this line: (You can create a new code cell to check your answers.)\n",
    "1. 8 -- integer\n",
    "2. 8.5 -- float\n",
    "3. 4.0 -- float\n",
    "4. 11 -- integer\n",
    "\n",
    "\n",
    "## Q3. PY4E Chapter 2 Exercise 5\n",
    "\n",
    "Write a program which prompts the user for a Celsius tem-\n",
    "perature, convert the temperature to Fahrenheit, and print out the\n",
    "converted temperature.\n",
    "\n",
    "Write your code in the code cell below.\n"
   ]
  },
  {
   "cell_type": "code",
   "execution_count": 5,
   "metadata": {},
   "outputs": [
    {
     "name": "stdout",
     "output_type": "stream",
     "text": [
      "Celsius temperature:25\n",
      "The Fahrenheit tempreture is 77.0 °F\n"
     ]
    }
   ],
   "source": [
    "x=float(input('Celsius temperature:'))\n",
    "y=(float(x)*9/5)+32\n",
    "print('The Fahrenheit tempreture is',y,'°F')"
   ]
  },
  {
   "cell_type": "markdown",
   "metadata": {},
   "source": [
    "## Q4. PY4E Chapter 3 Exercise 1\n",
    "\n",
    "Rewrite your pay computation (from Q1 above) to give the employee 1.5 times the hourly rate for hours worked above 40 hours.\n",
    "\n",
    "```\n",
    "Enter Hours: 45\n",
    "Enter Rate: 10\n",
    "Pay: 475.0\n",
    "```\n",
    "\n",
    "Write your code in the code cell below."
   ]
  },
  {
   "cell_type": "code",
   "execution_count": 10,
   "metadata": {},
   "outputs": [
    {
     "name": "stdout",
     "output_type": "stream",
     "text": [
      "Enter Hours:45\n",
      "Enter Rate:10\n",
      "Pay: 475.0\n"
     ]
    }
   ],
   "source": [
    "x=float(input('Enter Hours:'))\n",
    "y=float(input('Enter Rate:'))\n",
    "if x<=40:\n",
    "    pay=x*y\n",
    "else:\n",
    "    pay=40*y+1.5*(x-40)*y\n",
    "print('Pay:',pay)"
   ]
  },
  {
   "cell_type": "markdown",
   "metadata": {},
   "source": [
    "## Q5. PY4E Chapter 3 Exercise 2\n",
    "Rewrite your pay program (in Q4) using try and except so that your\n",
    "program handles non-numeric input gracefully by printing a message\n",
    "and exiting the program. The following shows two executions of the\n",
    "program:\n",
    "\n",
    "```\n",
    "Enter Hours: 20\n",
    "Enter Rate: nine\n",
    "Error, please enter numeric input\n",
    "\n",
    "Enter Hours: forty\n",
    "Error, please enter numeric input\n",
    "```\n",
    "\n",
    "Write your code in the code cell below."
   ]
  },
  {
   "cell_type": "code",
   "execution_count": 10,
   "metadata": {
    "scrolled": true
   },
   "outputs": [
    {
     "name": "stdout",
     "output_type": "stream",
     "text": [
      "Enter Hours:20\n",
      "Enter Rate:nine\n",
      "Error,please enter numeric input\n"
     ]
    }
   ],
   "source": [
    "try:\n",
    "    x=float(input('Enter Hours:'))\n",
    "    y=float(input('Enter Rate:'))\n",
    "    if x<=40:\n",
    "        pay=x*y\n",
    "    else:\n",
    "        pay=40*y+1.5*(x-40)*y\n",
    "    print('Pay:',pay)\n",
    "except:\n",
    "    print('Error,please enter numeric input')"
   ]
  },
  {
   "cell_type": "markdown",
   "metadata": {},
   "source": [
    "## Q6. PY4E Chapter 3 Exercise 3\n",
    "\n",
    "Write a program to prompt for a score between 0.0 and\n",
    "1.0. If the score is out of range, print an error message. If the score is\n",
    "between 0.0 and 1.0, print a grade using the following table:\n",
    "\n",
    "|Score | Grade |\n",
    "| -- | -- |\n",
    "|>= 0.9 | A  |\n",
    "|>= 0.8 | B |\n",
    "|>= 0.7 | C |\n",
    "| >= 0.6 | D |\n",
    "| < 0.6 | F |\n",
    "\n",
    "```\n",
    "Enter score: 0.95\n",
    "A\n",
    "Enter score: perfect\n",
    "Bad score\n",
    "Enter score: 10.0\n",
    "Bad score\n",
    "Enter score: 0.75\n",
    "C\n",
    "Enter score: 0.5\n",
    "F\n",
    "```\n",
    "\n",
    "Run the program repeatedly as shown above to test the various different values for\n",
    "input.\n",
    "\n",
    "Write your code in the code cell below."
   ]
  },
  {
   "cell_type": "code",
   "execution_count": null,
   "metadata": {
    "scrolled": false
   },
   "outputs": [
    {
     "name": "stdout",
     "output_type": "stream",
     "text": [
      "Enter score:0.75\n",
      "C\n",
      "Enter score:0.9\n",
      "A\n",
      "Enter score:th\n",
      "Bad score\n"
     ]
    }
   ],
   "source": [
    "\n",
    "def isGood(score):\n",
    "    try:\n",
    "        if (float(score) <=1 and float(score) >=0):\n",
    "            return True\n",
    "        else:\n",
    "            return False\n",
    "    except:\n",
    "        return False\n",
    "    \n",
    "def Grade(x):\n",
    "    if x<0.6:\n",
    "        Grade='F'\n",
    "    elif x<0.7:\n",
    "        Grade='D'\n",
    "    elif x<0.8:\n",
    "        Grade='C'\n",
    "    elif x<0.9:\n",
    "        Grade='B'\n",
    "    else:\n",
    "        Grade='A'\n",
    "    return Grade\n",
    "\n",
    "while True:\n",
    "    score=input('Enter score:')\n",
    "    if isGood(score):\n",
    "        y=Grade(float(score))\n",
    "        print(y)\n",
    "    else:\n",
    "        print('Bad score')"
   ]
  },
  {
   "cell_type": "markdown",
   "metadata": {},
   "source": [
    "## Q7. PY4E Chapter 4 Exercise 6\n",
    "Rewrite your pay computation in Q5 by creating a function called `computepay` which takes two parameters\n",
    "(`hours` and `rate`).\n",
    "\n",
    "Write your code in the code cell below."
   ]
  },
  {
   "cell_type": "code",
   "execution_count": 94,
   "metadata": {},
   "outputs": [],
   "source": [
    "def computepay(hours,rate):\n",
    "    try:\n",
    "        hours=float(hours)\n",
    "        rate=float(rate)\n",
    "        if hours<=40:\n",
    "            pay=hours*rate\n",
    "        else:\n",
    "            pay=40*rate+1.5*(hours-40)*rate\n",
    "        print('Pay:',pay)\n",
    "    except:\n",
    "        print('Error,please enter numeric input')"
   ]
  },
  {
   "cell_type": "markdown",
   "metadata": {},
   "source": [
    "## Q8. PY4E Chapter 4 Exercise 7\n",
    "\n",
    "Rewrite the grade program from Q6 using a function called `computegrade` that takes a `score` as its parameter and\n",
    "returns a `grade` as a string.\n",
    "\n",
    "Write your code in the code cell below."
   ]
  },
  {
   "cell_type": "code",
   "execution_count": 2,
   "metadata": {},
   "outputs": [
    {
     "data": {
      "text/plain": [
       "'Bad score'"
      ]
     },
     "execution_count": 2,
     "metadata": {},
     "output_type": "execute_result"
    }
   ],
   "source": [
    "\n",
    "def computegrade(score):\n",
    "    try:\n",
    "        if isGood(score):\n",
    "            if score<0.6:\n",
    "                grade='F'\n",
    "            elif score<0.7:\n",
    "                grade='D'\n",
    "            elif score<0.8:\n",
    "                grade='C'\n",
    "            elif score<0.9:\n",
    "                grade='B'\n",
    "            elif score<=1:\n",
    "                grade='A'\n",
    "        else:\n",
    "            grade='Bad score'\n",
    "    except:\n",
    "        grade='Bad score'\n",
    "    return grade"
   ]
  }
 ],
 "metadata": {
  "kernelspec": {
   "display_name": "Python 3",
   "language": "python",
   "name": "python3"
  },
  "language_info": {
   "codemirror_mode": {
    "name": "ipython",
    "version": 3
   },
   "file_extension": ".py",
   "mimetype": "text/x-python",
   "name": "python",
   "nbconvert_exporter": "python",
   "pygments_lexer": "ipython3",
   "version": "3.7.0"
  }
 },
 "nbformat": 4,
 "nbformat_minor": 2
}
